{
 "cells": [
  {
   "cell_type": "code",
   "execution_count": 1,
   "metadata": {},
   "outputs": [],
   "source": [
    "from tools.adversarial import *\n",
    "from games.Checkers import Checkers\n",
    "from games.TicTacToe import TicTacToe\n",
    "\n",
    "from models.deep_adversarial import DeepQLearning, DeepMCES\n",
    "from sklearn.linear_model import LinearRegression\n",
    "from sklearn.tree import DecisionTreeRegressor\n",
    "import random"
   ]
  },
  {
   "cell_type": "code",
   "execution_count": 2,
   "metadata": {},
   "outputs": [],
   "source": [
    "game = TicTacToe()"
   ]
  },
  {
   "cell_type": "code",
   "execution_count": 4,
   "metadata": {},
   "outputs": [
    {
     "name": "stdout",
     "output_type": "stream",
     "text": [
      "(0.753, 0.194)\n"
     ]
    }
   ],
   "source": [
    "model = DeepMCES(game, model=LinearRegression())\n",
    "score = (0,0)\n",
    "for i in range(32):\n",
    "    model.train(n=100)\n",
    "    score = make_games(game, model, n=1000, smart={-1:False, 1:True})\n",
    "print(score)"
   ]
  },
  {
   "cell_type": "code",
   "execution_count": 11,
   "metadata": {},
   "outputs": [
    {
     "name": "stdout",
     "output_type": "stream",
     "text": [
      "(0.808, 0.058)\n"
     ]
    }
   ],
   "source": [
    "model = DeepMCES(game, model=DecisionTreeRegressor())\n",
    "score = (0,0)\n",
    "for i in range(32):\n",
    "    model.train(n=100)\n",
    "    score = make_games(game, model, n=1000, smart={-1:False, 1:True})\n",
    "print(score)"
   ]
  },
  {
   "cell_type": "code",
   "execution_count": 10,
   "metadata": {},
   "outputs": [
    {
     "name": "stdout",
     "output_type": "stream",
     "text": [
      "(0.842, 0.101)\n"
     ]
    }
   ],
   "source": [
    "model = DeepMCES(game, model=None)\n",
    "score = (0,0)\n",
    "for i in range(32):\n",
    "    model.train(n=100)\n",
    "    score = make_games(game, model, n=1000, smart={-1:False, 1:True})\n",
    "print(score)"
   ]
  },
  {
   "cell_type": "code",
   "execution_count": 7,
   "metadata": {},
   "outputs": [
    {
     "name": "stdout",
     "output_type": "stream",
     "text": [
      "(0.341, 0.315)\n"
     ]
    }
   ],
   "source": [
    "print(make_games(game, model, n=1000, smart={-1:False, 1:False}))"
   ]
  },
  {
   "cell_type": "code",
   "execution_count": 53,
   "metadata": {},
   "outputs": [
    {
     "name": "stdout",
     "output_type": "stream",
     "text": [
      "(0.156, 0.636)\n"
     ]
    }
   ],
   "source": [
    "print(make_games(game, model, n=1000, smart={-1:True, 1:False}))"
   ]
  }
 ],
 "metadata": {
  "kernelspec": {
   "display_name": "Python 3",
   "language": "python",
   "name": "python3"
  },
  "language_info": {
   "codemirror_mode": {
    "name": "ipython",
    "version": 3
   },
   "file_extension": ".py",
   "mimetype": "text/x-python",
   "name": "python",
   "nbconvert_exporter": "python",
   "pygments_lexer": "ipython3",
   "version": "3.8.3"
  }
 },
 "nbformat": 4,
 "nbformat_minor": 4
}
