{
 "cells": [
  {
   "cell_type": "code",
   "execution_count": 1,
   "id": "bulgarian-crown",
   "metadata": {},
   "outputs": [],
   "source": [
    "from models import QLearning, MCPrediction\n",
    "from tools import *\n",
    "from TicTacToe import TicTacToe"
   ]
  },
  {
   "cell_type": "code",
   "execution_count": 10,
   "id": "incident-underwear",
   "metadata": {},
   "outputs": [],
   "source": [
    "Q = QLearning()\n",
    "Q.train(10000, 1)\n",
    "Q.train(10000, 0.9)\n",
    "Q.train(10000, 0.5)\n",
    "Q.train(10000, 0)"
   ]
  },
  {
   "cell_type": "code",
   "execution_count": 11,
   "id": "blind-constraint",
   "metadata": {},
   "outputs": [
    {
     "data": {
      "text/plain": [
       "(0.952, 0.044)"
      ]
     },
     "execution_count": 11,
     "metadata": {},
     "output_type": "execute_result"
    }
   ],
   "source": [
    "game = TicTacToe()\n",
    "make_games(game, Q, 1000, False, smart={-1:False, 1:True})"
   ]
  },
  {
   "cell_type": "code",
   "execution_count": 12,
   "id": "hungry-austin",
   "metadata": {},
   "outputs": [],
   "source": [
    "pred = MCPrediction()\n",
    "pred.train(10000)\n",
    "pred.train(10000, smart={-1:False, 1:True})\n",
    "pred.train(10000, smart={-1:True, 1:False})\n",
    "pred.train(10000, smart={-1:True, 1:True})"
   ]
  },
  {
   "cell_type": "code",
   "execution_count": 7,
   "id": "outdoor-trunk",
   "metadata": {},
   "outputs": [
    {
     "name": "stdout",
     "output_type": "stream",
     "text": [
      "win: 97.5 % , lost: 0.0 %\n"
     ]
    }
   ],
   "source": [
    "game = TicTacToe()\n",
    "make_games(game, pred, 1000, False, smart={-1:False, 1:True})"
   ]
  },
  {
   "cell_type": "code",
   "execution_count": null,
   "id": "consecutive-session",
   "metadata": {},
   "outputs": [],
   "source": [
    "game = TicTacToe()\n",
    "learning_curve(game, MCPrediction(), n_games=10000)"
   ]
  },
  {
   "cell_type": "code",
   "execution_count": null,
   "id": "hidden-upgrade",
   "metadata": {},
   "outputs": [],
   "source": [
    "game = TicTacToe()\n",
    "compare_learning_curve(game, QLearning(), MCPrediction(), n_games=10000)"
   ]
  },
  {
   "cell_type": "code",
   "execution_count": null,
   "id": "traditional-wisconsin",
   "metadata": {},
   "outputs": [],
   "source": []
  }
 ],
 "metadata": {
  "kernelspec": {
   "display_name": "Python 3",
   "language": "python",
   "name": "python3"
  },
  "language_info": {
   "codemirror_mode": {
    "name": "ipython",
    "version": 3
   },
   "file_extension": ".py",
   "mimetype": "text/x-python",
   "name": "python",
   "nbconvert_exporter": "python",
   "pygments_lexer": "ipython3",
   "version": "3.8.5"
  }
 },
 "nbformat": 4,
 "nbformat_minor": 5
}
